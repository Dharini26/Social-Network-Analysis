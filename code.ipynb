import networkx as nx
import matplotlib.pyplot as plt

# Create a directed graph to model information flow
G = nx.DiGraph()

# Define supply chain entities (nodes)
entities = [
    "Supplier 1", "Supplier 2", 
    "Manufacturer", 
    "Distributor", 
    "Retailer", 
    "Customer"
]

# Add nodes to the graph
G.add_nodes_from(entities)

# Define relationships (edges) with weights representing communication efficiency
relationships = [
    ("Supplier 1", "Manufacturer", 0.9), 
    ("Supplier 2", "Manufacturer", 0.8),
    ("Manufacturer", "Distributor", 0.95),
    ("Distributor", "Retailer", 0.85),
    ("Retailer", "Customer", 0.9)
]

# Add edges to the graph with weights
for src, dest, weight in relationships:
    G.add_edge(src, dest, weight=weight)

# Get edge weights for display
edge_labels = nx.get_edge_attributes(G, 'weight')

# Draw the graph
plt.figure(figsize=(10, 6))
pos = nx.spring_layout(G, seed=42)  # Positioning for nodes
nx.draw(
    G, pos, with_labels=True, 
    node_size=2000, node_color="lightblue", 
    font_size=10, font_weight="bold", 
    arrowsize=20, edge_color="gray"
)
# Add edge labels
nx.draw_networkx_edge_labels(G, pos, edge_labels=edge_labels)

# Display the graph
plt.title("Information Flow in Supply Chain", fontsize=16)
plt.show()